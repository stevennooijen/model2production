{
 "cells": [
  {
   "cell_type": "markdown",
   "metadata": {},
   "source": [
    "# Test API"
   ]
  },
  {
   "cell_type": "markdown",
   "metadata": {},
   "source": [
    "## API\n",
    "\n",
    "You're free to use whatever framework and language you want, but we advise you to use Python.\n",
    "Let us know if you have problems building the API.\n",
    "\n",
    "The API has to follow the following specs:\n",
    "\n",
    "* port: 5000\n",
    "* endpoint: `api/v1/predict/`\n",
    "* accepts GET requests:\n",
    "    * Example parameters as given in `example_request_data.json`\n",
    "* returns\n",
    "    * JSON content type:\n",
    "    * JSON has fields\n",
    "        * `sample_uuid`: unique identifier obtained from the GET parameters\n",
    "        * `probability`: probability of a yes (float between 0. and 1.)\n",
    "        * `label`: predicted label (float that is 0. or 1.)\n",
    "\n",
    "We'll supply two unit testing scripts in Python to test if your API conforms to the specification above.\n",
    "These scripts call your API and quickly test if the returned result is valid. (More on unit testing [here](https://jeffknupp.com/blog/2013/12/09/improve-your-python-understanding-unit-testing/)).\n",
    "\n",
    "Depending on your API, use one of the following two testing scripts:\n",
    "\n",
    "1. `flask_unittests.py`\n",
    "    * Unit tests that integrate with Flask.\n",
    "    * Assumes you'll name your Python API file `app.py` that is in the same folder\n",
    "    * Assumes the file `example_request_data.json` is in the same folder\n",
    "    * Run with `python flask_unittests.py`"
   ]
  },
  {
   "cell_type": "markdown",
   "metadata": {},
   "source": [
    "## get request"
   ]
  },
  {
   "cell_type": "markdown",
   "metadata": {},
   "source": [
    "Do requests to your flask app with the requests package"
   ]
  },
  {
   "cell_type": "code",
   "execution_count": null,
   "metadata": {},
   "outputs": [],
   "source": [
    "import requests"
   ]
  },
  {
   "cell_type": "code",
   "execution_count": null,
   "metadata": {},
   "outputs": [],
   "source": [
    "with open('../data/example_request_data.json') as f:\n",
    "    example_request = json.load(f)"
   ]
  },
  {
   "cell_type": "code",
   "execution_count": null,
   "metadata": {},
   "outputs": [],
   "source": [
    "url = 'http://localhost:5000/api/v1/predict' # test locally\n",
    "url = 'http://18.195.167.46:5000/api/v1/predict' # test on server"
   ]
  },
  {
   "cell_type": "code",
   "execution_count": null,
   "metadata": {},
   "outputs": [],
   "source": [
    "r = requests.get(url, params=example_request)"
   ]
  },
  {
   "cell_type": "code",
   "execution_count": null,
   "metadata": {
    "scrolled": true
   },
   "outputs": [],
   "source": [
    "r"
   ]
  },
  {
   "cell_type": "code",
   "execution_count": null,
   "metadata": {},
   "outputs": [],
   "source": [
    "r.json()"
   ]
  }
 ],
 "metadata": {
  "kernelspec": {
   "display_name": "Python 3",
   "language": "python",
   "name": "python3"
  },
  "language_info": {
   "codemirror_mode": {
    "name": "ipython",
    "version": 3
   },
   "file_extension": ".py",
   "mimetype": "text/x-python",
   "name": "python",
   "nbconvert_exporter": "python",
   "pygments_lexer": "ipython3",
   "version": "3.6.3"
  }
 },
 "nbformat": 4,
 "nbformat_minor": 2
}
