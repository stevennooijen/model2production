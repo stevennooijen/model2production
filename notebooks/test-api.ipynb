{
 "cells": [
  {
   "cell_type": "markdown",
   "metadata": {},
   "source": [
    "# Test API"
   ]
  },
  {
   "cell_type": "markdown",
   "metadata": {},
   "source": [
    "## API\n",
    "\n",
    "You're free to use whatever framework and language you want, but we advise you to use Python.\n",
    "Let us know if you have problems building the API.\n",
    "\n",
    "The API has to follow the following specs:\n",
    "\n",
    "* port: 5000\n",
    "* endpoint: `api/v1/predict/`\n",
    "* accepts GET requests:\n",
    "    * Example parameters as given in `example_request_data.json`\n",
    "* returns\n",
    "    * JSON content type:\n",
    "    * JSON has fields\n",
    "        * `sample_uuid`: unique identifier obtained from the GET parameters\n",
    "        * `probability`: probability of a yes (float between 0. and 1.)\n",
    "        * `label`: predicted label (float that is 0. or 1.)\n",
    "\n",
    "We'll supply two unit testing scripts in Python to test if your API conforms to the specification above.\n",
    "These scripts call your API and quickly test if the returned result is valid. (More on unit testing [here](https://jeffknupp.com/blog/2013/12/09/improve-your-python-understanding-unit-testing/)).\n",
    "\n",
    "Depending on your API, use one of the following two testing scripts:\n",
    "\n",
    "1. `flask_unittests.py`\n",
    "    * Unit tests that integrate with Flask.\n",
    "    * Assumes you'll name your Python API file `app.py` that is in the same folder\n",
    "    * Assumes the file `example_request_data.json` is in the same folder\n",
    "    * Run with `python flask_unittests.py`"
   ]
  },
  {
   "cell_type": "markdown",
   "metadata": {},
   "source": [
    "## get request"
   ]
  },
  {
   "cell_type": "markdown",
   "metadata": {},
   "source": [
    "Do requests to your flask app with the requests package"
   ]
  },
  {
   "cell_type": "code",
   "execution_count": 165,
   "metadata": {},
   "outputs": [],
   "source": [
    "import requests"
   ]
  },
  {
   "cell_type": "code",
   "execution_count": 166,
   "metadata": {},
   "outputs": [],
   "source": [
    "with open('../data/example_request_data.json') as f:\n",
    "    example_request = json.load(f)"
   ]
  },
  {
   "cell_type": "code",
   "execution_count": 167,
   "metadata": {},
   "outputs": [],
   "source": [
    "url = 'http://localhost:5000/api/v1/predict'"
   ]
  },
  {
   "cell_type": "code",
   "execution_count": 168,
   "metadata": {},
   "outputs": [],
   "source": [
    "r = requests.get(url, params=example_request)"
   ]
  },
  {
   "cell_type": "code",
   "execution_count": 169,
   "metadata": {
    "scrolled": true
   },
   "outputs": [
    {
     "data": {
      "text/plain": [
       "<Response [200]>"
      ]
     },
     "execution_count": 169,
     "metadata": {},
     "output_type": "execute_result"
    }
   ],
   "source": [
    "r"
   ]
  },
  {
   "cell_type": "code",
   "execution_count": 170,
   "metadata": {},
   "outputs": [
    {
     "data": {
      "text/plain": [
       "{'label': 0,\n",
       " 'probability': 0.0014748345336712812,\n",
       " 'sample_uuid': '189dba2c-5a40-455f-9d23-ad2562f16d65'}"
      ]
     },
     "execution_count": 170,
     "metadata": {},
     "output_type": "execute_result"
    }
   ],
   "source": [
    "r.json()"
   ]
  },
  {
   "cell_type": "code",
   "execution_count": null,
   "metadata": {},
   "outputs": [],
   "source": []
  }
 ],
 "metadata": {
  "kernelspec": {
   "display_name": "Python 3",
   "language": "python",
   "name": "python3"
  },
  "language_info": {
   "codemirror_mode": {
    "name": "ipython",
    "version": 3
   },
   "file_extension": ".py",
   "mimetype": "text/x-python",
   "name": "python",
   "nbconvert_exporter": "python",
   "pygments_lexer": "ipython3",
   "version": "3.6.3"
  }
 },
 "nbformat": 4,
 "nbformat_minor": 2
}
